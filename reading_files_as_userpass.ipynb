{
  "nbformat": 4,
  "nbformat_minor": 0,
  "metadata": {
    "colab": {
      "provenance": []
    },
    "kernelspec": {
      "name": "python3",
      "display_name": "Python 3"
    },
    "language_info": {
      "name": "python"
    }
  },
  "cells": [
    {
      "cell_type": "markdown",
      "source": [
        "In the code below, replace usernames.txt with the filename of usernames and passwords.txt with the filename of your passwords.\n",
        "Enter the URL of the site and parameters related to username and password in the corresponding field.\n",
        "Check the response.status_code to make sure the login is successful.\n",
        "If needed, you can extend the code to perform various actions after entering the site, such as storing user information or performing other operations."
      ],
      "metadata": {
        "id": "fbdticElEmJv"
      }
    },
    {
      "cell_type": "code",
      "source": [
        "import requests\n",
        "\n",
        "with open(\"usernames.txt\", \"r\") as f1, open(\"passwords.txt\", \"r\") as f2:\n",
        "    usernames = f1.readlines()\n",
        "    passwords = f2.readlines()\n",
        "\n",
        "for username, password in zip(usernames, passwords):\n",
        "    username = username.strip()\n",
        "    password = password.strip()\n",
        "\n",
        "    #Enter the URL of the site and parameters related to username and password here\n",
        "    url = \"https://example.com/login\"\n",
        "    data = {\n",
        "        \"username\": username,\n",
        "        \"password\": password,\n",
        "    }\n",
        "\n",
        "    response = requests.post(url, data=data)\n",
        "\n",
        "    #Check the response code and take the necessary actions\n",
        "    if response.status_code == 200:\n",
        "        print(f\"Login with username{username}and password{password} done successfully.\")\n",
        "    else:\n",
        "        print(f\"Error logging in with username{username} and password{password}: {response.status_code}\")"
      ],
      "metadata": {
        "colab": {
          "base_uri": "https://localhost:8080/"
        },
        "id": "C6WDkbD7EmUK",
        "outputId": "f185587c-f5d5-44ba-fda4-e89a4c1ffce2"
      },
      "execution_count": 5,
      "outputs": [
        {
          "output_type": "stream",
          "name": "stdout",
          "text": [
            "Error logging in with usernameali and passwordali1: 404\n",
            "Error logging in with usernamehassan and passwordhassan2: 404\n",
            "Error logging in with usernamesimin and passwordsimin3: 404\n",
            "Error logging in with usernametara and passwordtara4: 404\n"
          ]
        }
      ]
    },
    {
      "cell_type": "markdown",
      "source": [],
      "metadata": {
        "id": "ahf4bfswG5hU"
      }
    }
  ]
}